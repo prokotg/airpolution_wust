{
 "cells": [
  {
   "cell_type": "code",
   "execution_count": 1,
   "id": "e2cb2a3f-8c29-4df1-b331-d4f62cff576b",
   "metadata": {},
   "outputs": [],
   "source": [
    "import pandas as pd\n",
    "from shapely.geometry import Point\n",
    "import numpy as np\n",
    "import geopandas as gpd\n",
    "import matplotlib.pyplot as plt\n",
    "import seaborn as sns\n",
    "import json\n",
    "import folium\n",
    "from tqdm.auto import tqdm\n",
    "from folium.plugins import MarkerCluster\n",
    "from scipy.spatial import distance\n",
    "import branca.colormap as cm\n",
    "from folium.plugins import TimeSliderChoropleth\n",
    "import copy\n",
    "from scipy.stats import kendalltau"
   ]
  },
  {
   "cell_type": "code",
   "execution_count": 2,
   "id": "ede3a145-74c7-4227-a150-e3dabe71cf26",
   "metadata": {},
   "outputs": [],
   "source": [
    "polution_data = pd.read_csv(\"../data/no2_aggregated.csv\")\n",
    "polution_data['timestamp'] = pd.to_datetime(polution_data['timestamp'])\n",
    "polution_data = polution_data.set_index('timestamp')\n",
    "polution_data = polution_data.resample('Y')\n",
    "polution_data = polution_data.median()"
   ]
  },
  {
   "cell_type": "code",
   "execution_count": 3,
   "id": "9d4dd460-65b1-4549-9a54-c5a2b4368617",
   "metadata": {},
   "outputs": [],
   "source": [
    "polution_data['time_unix'] = polution_data.index.view(int) / 10**9\n",
    "polution_data.reset_index(drop=True, inplace=True)"
   ]
  },
  {
   "cell_type": "code",
   "execution_count": 4,
   "id": "31349e07-17df-44d8-bf42-7b4039ca9421",
   "metadata": {},
   "outputs": [],
   "source": [
    "polution_data = pd.melt(polution_data, id_vars=['time_unix'], value_vars=['DsWrocWybCon', 'DsWrocAlWisn', 'DsWrocBartni'],\n",
    "       var_name='station', value_name='polution')"
   ]
  },
  {
   "cell_type": "code",
   "execution_count": 5,
   "id": "546910d9-ea1e-40be-8622-1cd59931a4e6",
   "metadata": {},
   "outputs": [],
   "source": [
    "stations = {\n",
    "    'DsWrocAlWisn': [51.086225, 17.012689],\n",
    "    'DsWrocWybCon': [51.129378, 17.029250],\n",
    "    'DsWrocBartni': [51.115933, 17.141125],\n",
    "    \n",
    "    #'DsWrocNaGrob': [51.103456, 17.059225]\n",
    "}\n",
    "\n",
    "stations_points = [\n",
    "    ('DsWrocAlWisn', Point([17.012689, 51.086225])),\n",
    "    ('DsWrocWybCon', Point([17.029250, 51.129378])),\n",
    "    ('DsWrocBartni', Point([17.141125, 51.115933])),\n",
    "    \n",
    "    #('DsWrocNaGrob', Point([17.059225, 51.103456]))\n",
    "]\n",
    "\n",
    "stations_gdf = gpd.GeoDataFrame(stations_points, columns=['station', 'geometry'])\n",
    "stations_gdf.crs = \"epsg:4326\"\n",
    "stations_gdf = stations_gdf.to_crs(epsg=32631) \n",
    "\n",
    "polution_data = polution_data.merge(stations_gdf, on='station')"
   ]
  },
  {
   "cell_type": "code",
   "execution_count": 6,
   "id": "2402692f-f260-4c8b-8f76-d54eae09fd85",
   "metadata": {},
   "outputs": [],
   "source": [
    "gdf = gpd.read_file('../data/wroclaw.json')\n",
    "id_district_map = dict(zip(gdf.id.values, gdf.osiedle.values))\n",
    "gdf = gdf.to_crs(epsg=32631) "
   ]
  },
  {
   "cell_type": "code",
   "execution_count": 7,
   "id": "fdd8e98c-d218-45ad-830a-fa0126fd66ca",
   "metadata": {},
   "outputs": [],
   "source": [
    "def get_polution(stations_df, centroid):\n",
    "    values = []\n",
    "    distances = []\n",
    "    \n",
    "    min_dist = float('inf')\n",
    "    best_pol = 0\n",
    "    \n",
    "    for _, row in stations_df.iterrows():\n",
    "        dist = row.geometry.distance(centroid)\n",
    "        distances.append((1 / dist))\n",
    "        values.append(row.polution)\n",
    "        \n",
    "        if dist < min_dist:\n",
    "            min_dist = dist\n",
    "            best_pol = row.polution\n",
    "    \n",
    "    weighted_mean = np.average(values, weights=distances)\n",
    "    return weighted_mean + 0.1 * best_pol"
   ]
  },
  {
   "cell_type": "code",
   "execution_count": 8,
   "id": "e5775e1c-014c-48ec-8305-74913c74f649",
   "metadata": {},
   "outputs": [],
   "source": [
    "merged_df = []\n",
    "for _, row in gdf.iterrows():\n",
    "    \n",
    "    for time_point in polution_data.time_unix.unique():\n",
    "        copied_row = copy.deepcopy(row)\n",
    "        copied_row['polution'] = get_polution(polution_data[polution_data.time_unix == time_point], row.geometry.centroid)\n",
    "        copied_row['time_unix'] = time_point\n",
    " \n",
    "        merged_df.append(copied_row)\n",
    "joined_df = pd.DataFrame(merged_df)"
   ]
  },
  {
   "cell_type": "code",
   "execution_count": 9,
   "id": "59ffd334-bf29-44d0-af4e-fa82487d5a66",
   "metadata": {},
   "outputs": [],
   "source": [
    "df1 = copy.deepcopy(joined_df)"
   ]
  },
  {
   "cell_type": "code",
   "execution_count": 10,
   "id": "2a6f7b03-0fbc-426d-a4f7-e8cf770c97fd",
   "metadata": {},
   "outputs": [],
   "source": [
    "max_colour = max(joined_df['polution'])\n",
    "min_colour = min(joined_df['polution'])\n",
    "\n",
    "cmap = cm.linear.YlOrRd_09.scale(min_colour, max_colour)\n",
    "joined_df['colour'] = joined_df['polution'].map(cmap)"
   ]
  },
  {
   "cell_type": "code",
   "execution_count": 11,
   "id": "d9757d0b-4212-4c09-9f9f-1aa4a4f4fc74",
   "metadata": {},
   "outputs": [],
   "source": [
    "style_dict = {}\n",
    "for idx in gdf.id.unique():\n",
    "\n",
    "    result = joined_df[joined_df['osiedle'] == id_district_map[idx]]\n",
    "    inner_dict = {}\n",
    "    for _, r in result.iterrows():\n",
    "        inner_dict[int(r['time_unix'])] = {'color': r['colour'], 'opacity': 0.6}\n",
    "    style_dict[str(idx)] = inner_dict"
   ]
  },
  {
   "cell_type": "code",
   "execution_count": 12,
   "id": "00664851-d36a-4f42-9752-c7e1fb7a5846",
   "metadata": {},
   "outputs": [],
   "source": [
    "countries_df = joined_df[['id', 'geometry']]\n",
    "countries_gdf = gpd.GeoDataFrame(countries_df)\n",
    "countries_gdf = countries_gdf.drop_duplicates().set_index(['id'])\n",
    "countries_gdf.crs = \"EPSG:32631\"\n",
    "countries_gdf = countries_gdf.to_crs(epsg=4326) "
   ]
  },
  {
   "cell_type": "code",
   "execution_count": 13,
   "id": "1238b537-b356-479a-9533-6c1619e4de07",
   "metadata": {},
   "outputs": [],
   "source": [
    "mapObj = folium.Map(location=[51.12, 17.02], zoom_start=12)\n",
    "\n",
    "for station, coords in stations.items():\n",
    "    icon = folium.Icon(icon='cloud', color='red')\n",
    "    folium.Marker(coords, popup=station, tooltip='Stacja pomiarowa', icon=icon).add_to(mapObj)\n",
    "\n",
    "_ = TimeSliderChoropleth(\n",
    "    data=countries_gdf.to_json(),\n",
    "    styledict=style_dict,\n",
    "    name=\"Zanieczyszczenie powietrza\",\n",
    "    show=True\n",
    ").add_to(mapObj)\n",
    "\n",
    "_ = cmap.add_to(mapObj)\n",
    "cmap.caption = \"Poziom zanieczyszczenia\""
   ]
  },
  {
   "cell_type": "code",
   "execution_count": 14,
   "id": "c13f16f2-196d-450b-85c5-e795b6395f81",
   "metadata": {},
   "outputs": [],
   "source": [
    "#folium.LayerControl().add_to(mapObj)\n",
    "mapObj.save(\"jakosc_powietrza.html\")"
   ]
  },
  {
   "cell_type": "markdown",
   "id": "599bdda3-a947-4c08-80bb-e42f1d6a79b4",
   "metadata": {
    "tags": []
   },
   "source": [
    "## piece"
   ]
  },
  {
   "cell_type": "code",
   "execution_count": 15,
   "id": "2401c2fa-f2e5-4672-af7c-22b042fca202",
   "metadata": {
    "tags": []
   },
   "outputs": [],
   "source": [
    "df = pd.read_csv(\"../data/piece.csv\", index_col=0)\n",
    "\n",
    "df['2015_cum'] = df['2014'] + df['2015']\n",
    "df['2016_cum'] = df['2015_cum'] + df['2016']\n",
    "df['2017_cum'] = df['2016_cum'] + df['2017']\n",
    "df['2018_cum'] = df['2017_cum'] + df['2018']\n",
    "df['2019_cum'] = df['2018_cum'] + df['2019']\n",
    "df['2020_cum'] = df['2019_cum'] + df['2020']\n",
    "df['2021_cum'] = df['2020_cum'] + df['2021']\n",
    "\n",
    "df['geometry'] = gpd.points_from_xy(df.lon, df.lat)\n",
    "#df = df[['geometry', '2015_cum', '2016_cum', '2017_cum', '2018_cum', '2019_cum', '2020_cum', '2021_cum']]"
   ]
  },
  {
   "cell_type": "code",
   "execution_count": 16,
   "id": "db3aefdc-6a31-4865-b79f-7e25f521cdee",
   "metadata": {},
   "outputs": [],
   "source": [
    "df = pd.melt(df, id_vars=['geometry'], value_vars=['2015_cum', '2016_cum', '2017_cum', '2018_cum', '2019_cum', '2020_cum', '2021_cum'],\n",
    "       var_name='time_unix', value_name='changed')\n",
    "df['time_unix'] = df['time_unix'].apply(lambda val: val[:-4] + \"-12-31\", 1)\n",
    "df['time_unix'] = pd.to_datetime(df['time_unix'])\n",
    "df['time_unix'] = df['time_unix'].view(int) / 10**9\n",
    "df = df[df.changed > 0]\n",
    "#df.changed = np.log2(df.changed)\n",
    "df = gpd.GeoDataFrame(df)\n",
    "df.crs = \"EPSG:4326\"\n",
    "df = df.to_crs(epsg=32631) "
   ]
  },
  {
   "cell_type": "code",
   "execution_count": 17,
   "id": "c959f774-7170-4438-95b5-7c80d3872158",
   "metadata": {},
   "outputs": [],
   "source": [
    "gdf = gpd.read_file('../data/wroclaw.json')\n",
    "id_district_map = dict(zip(gdf.id.values, gdf.osiedle.values))\n",
    "gdf = gdf.to_crs(epsg=32631) "
   ]
  },
  {
   "cell_type": "code",
   "execution_count": 18,
   "id": "c2cd71c9-4afe-4ab3-9b2b-226235d49dec",
   "metadata": {
    "collapsed": true,
    "jupyter": {
     "outputs_hidden": true
    },
    "tags": []
   },
   "outputs": [
    {
     "data": {
      "application/vnd.jupyter.widget-view+json": {
       "model_id": "b04a21a0b43f4ba2b97e37ab1880e955",
       "version_major": 2,
       "version_minor": 0
      },
      "text/plain": [
       "  0%|          | 0/48 [00:00<?, ?it/s]"
      ]
     },
     "metadata": {},
     "output_type": "display_data"
    },
    {
     "ename": "KeyboardInterrupt",
     "evalue": "",
     "output_type": "error",
     "traceback": [
      "\u001b[0;31m---------------------------------------------------------------------------\u001b[0m",
      "\u001b[0;31mKeyboardInterrupt\u001b[0m                         Traceback (most recent call last)",
      "\u001b[0;32m/tmp/ipykernel_8727/1500844709.py\u001b[0m in \u001b[0;36m<module>\u001b[0;34m\u001b[0m\n\u001b[1;32m      7\u001b[0m         \u001b[0mcopied_row\u001b[0m\u001b[0;34m[\u001b[0m\u001b[0;34m'time_unix'\u001b[0m\u001b[0;34m]\u001b[0m \u001b[0;34m=\u001b[0m \u001b[0mtime_point\u001b[0m\u001b[0;34m\u001b[0m\u001b[0;34m\u001b[0m\u001b[0m\n\u001b[1;32m      8\u001b[0m         \u001b[0;32mfor\u001b[0m \u001b[0m_\u001b[0m\u001b[0;34m,\u001b[0m \u001b[0mfurnice_row\u001b[0m \u001b[0;32min\u001b[0m \u001b[0mdf\u001b[0m\u001b[0;34m[\u001b[0m\u001b[0mdf\u001b[0m\u001b[0;34m.\u001b[0m\u001b[0mtime_unix\u001b[0m \u001b[0;34m==\u001b[0m \u001b[0mtime_point\u001b[0m\u001b[0;34m]\u001b[0m\u001b[0;34m.\u001b[0m\u001b[0miterrows\u001b[0m\u001b[0;34m(\u001b[0m\u001b[0;34m)\u001b[0m\u001b[0;34m:\u001b[0m\u001b[0;34m\u001b[0m\u001b[0;34m\u001b[0m\u001b[0m\n\u001b[0;32m----> 9\u001b[0;31m             \u001b[0;32mif\u001b[0m \u001b[0mrow\u001b[0m\u001b[0;34m.\u001b[0m\u001b[0mgeometry\u001b[0m\u001b[0;34m.\u001b[0m\u001b[0mcontains\u001b[0m\u001b[0;34m(\u001b[0m\u001b[0mfurnice_row\u001b[0m\u001b[0;34m.\u001b[0m\u001b[0mgeometry\u001b[0m\u001b[0;34m)\u001b[0m\u001b[0;34m:\u001b[0m\u001b[0;34m\u001b[0m\u001b[0;34m\u001b[0m\u001b[0m\n\u001b[0m\u001b[1;32m     10\u001b[0m                 \u001b[0mchanged_here\u001b[0m \u001b[0;34m+=\u001b[0m \u001b[0mfurnice_row\u001b[0m\u001b[0;34m.\u001b[0m\u001b[0mchanged\u001b[0m\u001b[0;34m\u001b[0m\u001b[0;34m\u001b[0m\u001b[0m\n\u001b[1;32m     11\u001b[0m \u001b[0;34m\u001b[0m\u001b[0m\n",
      "\u001b[0;32m~/.python_enviroments/main_env/lib/python3.9/site-packages/pandas/core/generic.py\u001b[0m in \u001b[0;36m__getattr__\u001b[0;34m(self, name)\u001b[0m\n\u001b[1;32m   5482\u001b[0m             \u001b[0;32mand\u001b[0m \u001b[0mname\u001b[0m \u001b[0;32mnot\u001b[0m \u001b[0;32min\u001b[0m \u001b[0mself\u001b[0m\u001b[0;34m.\u001b[0m\u001b[0m_metadata\u001b[0m\u001b[0;34m\u001b[0m\u001b[0;34m\u001b[0m\u001b[0m\n\u001b[1;32m   5483\u001b[0m             \u001b[0;32mand\u001b[0m \u001b[0mname\u001b[0m \u001b[0;32mnot\u001b[0m \u001b[0;32min\u001b[0m \u001b[0mself\u001b[0m\u001b[0;34m.\u001b[0m\u001b[0m_accessors\u001b[0m\u001b[0;34m\u001b[0m\u001b[0;34m\u001b[0m\u001b[0m\n\u001b[0;32m-> 5484\u001b[0;31m             \u001b[0;32mand\u001b[0m \u001b[0mself\u001b[0m\u001b[0;34m.\u001b[0m\u001b[0m_info_axis\u001b[0m\u001b[0;34m.\u001b[0m\u001b[0m_can_hold_identifiers_and_holds_name\u001b[0m\u001b[0;34m(\u001b[0m\u001b[0mname\u001b[0m\u001b[0;34m)\u001b[0m\u001b[0;34m\u001b[0m\u001b[0;34m\u001b[0m\u001b[0m\n\u001b[0m\u001b[1;32m   5485\u001b[0m         ):\n\u001b[1;32m   5486\u001b[0m             \u001b[0;32mreturn\u001b[0m \u001b[0mself\u001b[0m\u001b[0;34m[\u001b[0m\u001b[0mname\u001b[0m\u001b[0;34m]\u001b[0m\u001b[0;34m\u001b[0m\u001b[0;34m\u001b[0m\u001b[0m\n",
      "\u001b[0;32m~/.python_enviroments/main_env/lib/python3.9/site-packages/pandas/core/generic.py\u001b[0m in \u001b[0;36m_info_axis\u001b[0;34m(self)\u001b[0m\n\u001b[1;32m    631\u001b[0m     \u001b[0;34m@\u001b[0m\u001b[0mproperty\u001b[0m\u001b[0;34m\u001b[0m\u001b[0;34m\u001b[0m\u001b[0m\n\u001b[1;32m    632\u001b[0m     \u001b[0;32mdef\u001b[0m \u001b[0m_info_axis\u001b[0m\u001b[0;34m(\u001b[0m\u001b[0mself\u001b[0m\u001b[0;34m)\u001b[0m \u001b[0;34m->\u001b[0m \u001b[0mIndex\u001b[0m\u001b[0;34m:\u001b[0m\u001b[0;34m\u001b[0m\u001b[0;34m\u001b[0m\u001b[0m\n\u001b[0;32m--> 633\u001b[0;31m         \u001b[0;32mreturn\u001b[0m \u001b[0mgetattr\u001b[0m\u001b[0;34m(\u001b[0m\u001b[0mself\u001b[0m\u001b[0;34m,\u001b[0m \u001b[0mself\u001b[0m\u001b[0;34m.\u001b[0m\u001b[0m_info_axis_name\u001b[0m\u001b[0;34m)\u001b[0m\u001b[0;34m\u001b[0m\u001b[0;34m\u001b[0m\u001b[0m\n\u001b[0m\u001b[1;32m    634\u001b[0m \u001b[0;34m\u001b[0m\u001b[0m\n\u001b[1;32m    635\u001b[0m     \u001b[0;34m@\u001b[0m\u001b[0mproperty\u001b[0m\u001b[0;34m\u001b[0m\u001b[0;34m\u001b[0m\u001b[0m\n",
      "\u001b[0;31mKeyboardInterrupt\u001b[0m: "
     ]
    }
   ],
   "source": [
    "merged_df = []\n",
    "for _, row in tqdm(gdf.iterrows(), total=len(gdf)):\n",
    "\n",
    "    for time_point in df.time_unix.unique():\n",
    "        changed_here = 0\n",
    "        copied_row = copy.deepcopy(row)\n",
    "        copied_row['time_unix'] = time_point\n",
    "        for _, furnice_row in df[df.time_unix == time_point].iterrows():        \n",
    "            if row.geometry.contains(furnice_row.geometry):\n",
    "                changed_here += furnice_row.changed\n",
    "        \n",
    "            copied_row['polution'] = changed_here\n",
    "            merged_df.append(copied_row)\n",
    "joined_df = pd.DataFrame(merged_df)"
   ]
  },
  {
   "cell_type": "code",
   "execution_count": null,
   "id": "6f404e15-cd06-44dd-97b3-debbe112c88c",
   "metadata": {},
   "outputs": [],
   "source": [
    "max_colour = max(joined_df['polution'])\n",
    "min_colour = min(joined_df['polution'])\n",
    "\n",
    "cmap = cm.linear.YlOrRd_09.scale(min_colour, max_colour)\n",
    "joined_df['colour'] = joined_df['polution'].map(cmap)"
   ]
  },
  {
   "cell_type": "code",
   "execution_count": null,
   "id": "4d402e2f-6389-4b58-b403-dcd6d63fc17b",
   "metadata": {},
   "outputs": [],
   "source": [
    "style_dict = {}\n",
    "for idx in tqdm(gdf.id.unique()):\n",
    "\n",
    "    result = joined_df[joined_df['osiedle'] == id_district_map[idx]]\n",
    "    inner_dict = {}\n",
    "    for _, r in result.iterrows():\n",
    "        inner_dict[int(r['time_unix'])] = {'color': r['colour'], 'opacity': 0.6}\n",
    "    style_dict[str(idx)] = inner_dict"
   ]
  },
  {
   "cell_type": "code",
   "execution_count": null,
   "id": "0113d15a-c955-4b48-b1b9-f3896f8d2de7",
   "metadata": {
    "tags": []
   },
   "outputs": [],
   "source": [
    "countries_df = joined_df[['id', 'geometry']]\n",
    "countries_gdf = gpd.GeoDataFrame(countries_df)\n",
    "countries_gdf = countries_gdf.drop_duplicates().set_index(['id'])\n",
    "countries_gdf.crs = \"EPSG:32631\"\n",
    "countries_gdf = countries_gdf.to_crs(epsg=4326) "
   ]
  },
  {
   "cell_type": "code",
   "execution_count": null,
   "id": "6e218c5e-b199-430d-ad26-6efceafe753c",
   "metadata": {},
   "outputs": [],
   "source": [
    "mapObj = folium.Map(location=[51.12, 17.02], zoom_start=12)\n",
    "\n",
    "_ = TimeSliderChoropleth(\n",
    "    data=countries_gdf.to_json(),\n",
    "    styledict=style_dict,\n",
    "    name=\"Trend zmiany pieców\",\n",
    "    show=True\n",
    ").add_to(mapObj)\n",
    "\n",
    "_ = cmap.add_to(mapObj)\n",
    "cmap.caption = \"Liczba wymienionych pieców\""
   ]
  },
  {
   "cell_type": "markdown",
   "id": "c7ab852b-92c3-4d17-9e4d-2102bf5eb48f",
   "metadata": {
    "tags": []
   },
   "source": [
    "## pins"
   ]
  },
  {
   "cell_type": "code",
   "execution_count": null,
   "id": "62c64f10-1d5a-4403-b4b5-fdd412b4dc64",
   "metadata": {
    "tags": []
   },
   "outputs": [],
   "source": [
    "df = pd.read_csv(\"../data/piece.csv\", index_col=0)\n",
    "mCluster = MarkerCluster(name=\"Adresy wymienionych pieców\", show=True).add_to(mapObj)\n",
    "for index, row in df.iterrows():\n",
    "    number = row['all']\n",
    "    if number > 0:\n",
    "        icon = folium.Icon(icon='home')\n",
    "        folium.Marker([row.lat, row.lon], popup=f\"Wymienione piece: {number}\", tooltip=row.address, icon=icon).add_to(mCluster)"
   ]
  },
  {
   "cell_type": "code",
   "execution_count": null,
   "id": "4b12841b-b0c6-4989-9581-a2dd86d10804",
   "metadata": {},
   "outputs": [],
   "source": [
    "folium.LayerControl().add_to(mapObj)\n",
    "mapObj.save(\"zmienione_piece.html\")"
   ]
  }
 ],
 "metadata": {
  "kernelspec": {
   "display_name": "Python 3 (ipykernel)",
   "language": "python",
   "name": "python3"
  },
  "language_info": {
   "codemirror_mode": {
    "name": "ipython",
    "version": 3
   },
   "file_extension": ".py",
   "mimetype": "text/x-python",
   "name": "python",
   "nbconvert_exporter": "python",
   "pygments_lexer": "ipython3",
   "version": "3.9.7"
  }
 },
 "nbformat": 4,
 "nbformat_minor": 5
}
