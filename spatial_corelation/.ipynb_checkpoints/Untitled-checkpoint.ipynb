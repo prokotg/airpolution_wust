{
 "cells": [
  {
   "cell_type": "markdown",
   "metadata": {},
   "source": [
    "# 1"
   ]
  },
  {
   "cell_type": "markdown",
   "metadata": {},
   "source": [
    "Widzimy występujące skupienie dla czwartego kwintyla w centrum miasta ciągnący się do południowo-wschodnich granic miasta. Sugeruje nam to że nie mamy doczynienia z losowym rozkładem wymienionych piecy do liczby zamieszkujących osób daną dzielnicę."
   ]
  },
  {
   "cell_type": "markdown",
   "metadata": {},
   "source": [
    "# 2 Binaryzacja"
   ]
  },
  {
   "cell_type": "markdown",
   "metadata": {},
   "source": [
    "Dla 24 osiedli liczba wymienionych piecy jest powyżej mediany a drugie 24 poniżej . Zauważamy, że większość z dzielnic w której liczba wymienionych piecy jest większa od mediany grupuje się w dwóch grupach od zachodniej granicy miasta oraz w centrum z rozciągnięciem się pod wschodnią granicę miasta"
   ]
  },
  {
   "cell_type": "markdown",
   "metadata": {},
   "source": []
  },
  {
   "cell_type": "markdown",
   "metadata": {},
   "source": []
  },
  {
   "cell_type": "markdown",
   "metadata": {},
   "source": [
    "# 4 Autokorelacja lokalna"
   ]
  },
  {
   "cell_type": "markdown",
   "metadata": {},
   "source": [
    "Wyróżniliśmy 4 typy lokalnego powiązania przestrzennego odzwierciedlonego w kwadrantach wykresu punktowego Morana. Zauważamy że gorącymi punktami są dzielnice zlokalizowane w centrum miasta tj: Plac Grunwaldzki, Nadodrze, Ołbin oraz Kleczków. Lokacje ze znaczącą, ale ujemną, lokalną autokorelacją to albo „pączek”, gdzie niska wartość sąsiaduje z lokalizacjami o wysokim współczynniku wymienionych piecy do ludności, albo „nieoszlifowane diamenty”, gdzie wysoka wartość jest otoczona niskimi wartościami. Patrząc na wcześniejsze analizy pamiętamy że mają one bardzo duży współczynnik wymienionych pieców jak i policzony przez nas współczynnik wymienionych piecy do liczby ludności. Sugeruje nam to że w tych oraz sąsiadujących osiedlach tj Stare Miasto oraz Zacisze-Zalesie-Szczytniki będzie miała miejsce największa poprawa jakości powietrza."
   ]
  },
  {
   "cell_type": "markdown",
   "metadata": {},
   "source": []
  },
  {
   "cell_type": "code",
   "execution_count": null,
   "metadata": {},
   "outputs": [],
   "source": []
  },
  {
   "cell_type": "code",
   "execution_count": null,
   "metadata": {},
   "outputs": [],
   "source": []
  }
 ],
 "metadata": {
  "kernelspec": {
   "display_name": "Python 3 (ipykernel)",
   "language": "python",
   "name": "python3"
  },
  "language_info": {
   "codemirror_mode": {
    "name": "ipython",
    "version": 3
   },
   "file_extension": ".py",
   "mimetype": "text/x-python",
   "name": "python",
   "nbconvert_exporter": "python",
   "pygments_lexer": "ipython3",
   "version": "3.8.5"
  }
 },
 "nbformat": 4,
 "nbformat_minor": 4
}
